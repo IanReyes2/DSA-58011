{
  "nbformat": 4,
  "nbformat_minor": 0,
  "metadata": {
    "colab": {
      "provenance": [],
      "authorship_tag": "ABX9TyN2Zd8SYV/q7HK+7vAcGB/Y",
      "include_colab_link": true
    },
    "kernelspec": {
      "name": "python3",
      "display_name": "Python 3"
    },
    "language_info": {
      "name": "python"
    }
  },
  "cells": [
    {
      "cell_type": "markdown",
      "metadata": {
        "id": "view-in-github",
        "colab_type": "text"
      },
      "source": [
        "<a href=\"https://colab.research.google.com/github/IanReyes2/DSA-58011/blob/main/Graphs.ipynb\" target=\"_parent\"><img src=\"https://colab.research.google.com/assets/colab-badge.svg\" alt=\"Open In Colab\"/></a>"
      ]
    },
    {
      "cell_type": "code",
      "execution_count": 5,
      "metadata": {
        "colab": {
          "base_uri": "https://localhost:8080/"
        },
        "id": "lffaWyaUZUS0",
        "outputId": "b6d863f1-d57d-484d-e5d5-61ccd53e8ee4"
      },
      "outputs": [
        {
          "output_type": "stream",
          "name": "stdout",
          "text": [
            "{'a': ['b', 'c'], 'b': ['a', 'd'], 'c': ['a', 'd'], 'd': ['b', 'c', 'e'], 'e': ['e']}\n"
          ]
        }
      ],
      "source": [
        "graph = {\n",
        "    'a':['b','c'],\n",
        "    'b':['a','d'],\n",
        "    'c':['a','d'],\n",
        "    'd':['b','c','e'],\n",
        "    'e':['e']\n",
        "\n",
        "}\n",
        "print(graph)"
      ]
    },
    {
      "cell_type": "code",
      "source": [
        "#graph no.1\n",
        "\n",
        "graph = {\n",
        "    '1':['2','3','4','5'],\n",
        "    '2':['1','3'],\n",
        "    '3':['2','4'],\n",
        "    '4':['3','5'],\n",
        "    '5':['1','4'],\n",
        "\n",
        "}\n",
        "print(graph)"
      ],
      "metadata": {
        "colab": {
          "base_uri": "https://localhost:8080/"
        },
        "id": "jF90RyYajl-Z",
        "outputId": "af0625fd-eb5d-4b82-9c89-80eaacfdd640"
      },
      "execution_count": 8,
      "outputs": [
        {
          "output_type": "stream",
          "name": "stdout",
          "text": [
            "{'1': ['2', '3', '4', '5'], '2': ['1', '3'], '3': ['2', '4'], '4': ['3', '5'], '5': ['1', '4']}\n"
          ]
        }
      ]
    }
  ]
}