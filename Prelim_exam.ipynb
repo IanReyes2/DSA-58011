{
  "nbformat": 4,
  "nbformat_minor": 0,
  "metadata": {
    "colab": {
      "provenance": [],
      "authorship_tag": "ABX9TyMPcDBKLAWG3UAprHMHYHot",
      "include_colab_link": true
    },
    "kernelspec": {
      "name": "python3",
      "display_name": "Python 3"
    },
    "language_info": {
      "name": "python"
    }
  },
  "cells": [
    {
      "cell_type": "markdown",
      "metadata": {
        "id": "view-in-github",
        "colab_type": "text"
      },
      "source": [
        "<a href=\"https://colab.research.google.com/github/IanReyes2/DSA-58011/blob/main/Prelim_exam.ipynb\" target=\"_parent\"><img src=\"https://colab.research.google.com/assets/colab-badge.svg\" alt=\"Open In Colab\"/></a>"
      ]
    },
    {
      "cell_type": "code",
      "execution_count": 16,
      "metadata": {
        "colab": {
          "base_uri": "https://localhost:8080/"
        },
        "id": "eiORDO5Aqz3A",
        "outputId": "791f5d3b-1415-4454-8aaf-87b99ccd0d70"
      },
      "outputs": [
        {
          "output_type": "stream",
          "name": "stdout",
          "text": [
            "Number of composite: 4\n",
            "[['4', '6', '8', '9']]\n"
          ]
        }
      ],
      "source": [
        "num= []\n",
        "num.append([\"4\",\"6\",\"8\",\"9\"])\n",
        "\n",
        "num1 = 4689\n",
        "count = 0\n",
        "\n",
        "while num1 != 0:\n",
        "    num1 //= 10\n",
        "    count += 1\n",
        "\n",
        "print(\"Number of composite: \" + str(count))\n",
        "print(num)"
      ]
    }
  ]
}