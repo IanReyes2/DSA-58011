{
  "nbformat": 4,
  "nbformat_minor": 0,
  "metadata": {
    "colab": {
      "provenance": [],
      "collapsed_sections": [],
      "authorship_tag": "ABX9TyNNWm0SaMx6yOmlhKPEIotA",
      "include_colab_link": true
    },
    "kernelspec": {
      "name": "python3",
      "display_name": "Python 3"
    },
    "language_info": {
      "name": "python"
    }
  },
  "cells": [
    {
      "cell_type": "markdown",
      "metadata": {
        "id": "view-in-github",
        "colab_type": "text"
      },
      "source": [
        "<a href=\"https://colab.research.google.com/github/IanReyes2/DSA-58011/blob/main/POLYGON.ipynb\" target=\"_parent\"><img src=\"https://colab.research.google.com/assets/colab-badge.svg\" alt=\"Open In Colab\"/></a>"
      ]
    },
    {
      "cell_type": "markdown",
      "source": [
        "POLYGON IDENTIFIER\n"
      ],
      "metadata": {
        "id": "badNffzF7c51"
      }
    },
    {
      "cell_type": "code",
      "execution_count": null,
      "metadata": {
        "id": "FXB88_Do7XIS"
      },
      "outputs": [],
      "source": [
        "print(\"identify your polygon: \")\n",
        "print(\"1. Triangle\")\n",
        "print(\"2. Rectangle\")\n",
        "print(\"3. Square\")\n",
        "\n",
        "operation = input()\n",
        "if operation == \"1\":\n",
        "    base = int(input(\"enter base value: \"))\n",
        "    height = int(input(\"enter height value: \"))\n",
        "    sides = \"Triangle has 3 sides\"\n",
        "    print(\"the area is: \"+str(height*base/2))\n",
        "    print(\"the sides are: \"+sides)\n",
        "\n",
        "elif operation == \"2\":\n",
        "    width = int(input(\"enter width value: \"))\n",
        "    length = int(input(\"enter length value: \"))\n",
        "    sides = \"The Rectangle has 4 sides\"\n",
        "    print(\"the area is: \"+str(width*length))\n",
        "    print(\"the sides are: \"+sides)\n",
        "\n",
        "elif operation == \"3\":\n",
        "    side1 = int(input(\"enter your side values: \"))\n",
        "    sides = \"Square has 4 sides too\"\n",
        "    print(\"the area is: \"+str(side1**2))\n",
        "    print(\"the sides are: \"+sides)\n",
        "\n",
        "else:\n",
        "  print(\"Try again\")\n",
        "\n"
      ]
    }
  ]
}