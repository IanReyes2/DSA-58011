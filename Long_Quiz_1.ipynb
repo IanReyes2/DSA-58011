{
  "nbformat": 4,
  "nbformat_minor": 0,
  "metadata": {
    "colab": {
      "provenance": [],
      "authorship_tag": "ABX9TyMtf+hFUZV5Q3VSxBGeR0yC",
      "include_colab_link": true
    },
    "kernelspec": {
      "name": "python3",
      "display_name": "Python 3"
    },
    "language_info": {
      "name": "python"
    }
  },
  "cells": [
    {
      "cell_type": "markdown",
      "metadata": {
        "id": "view-in-github",
        "colab_type": "text"
      },
      "source": [
        "<a href=\"https://colab.research.google.com/github/IanReyes2/DSA-58011/blob/main/Long_Quiz_1.ipynb\" target=\"_parent\"><img src=\"https://colab.research.google.com/assets/colab-badge.svg\" alt=\"Open In Colab\"/></a>"
      ]
    },
    {
      "cell_type": "markdown",
      "source": [
        "Array\n"
      ],
      "metadata": {
        "id": "n0HWiVcqZGiv"
      }
    },
    {
      "cell_type": "code",
      "source": [
        "name = []\n",
        "name.insert(0, \"Ian\")\n",
        "name.insert(1, \"Vincent\")\n",
        "name.insert(2, \"Litong\")\n",
        "name.insert(3, \"Reyes\")\n",
        "\n",
        "print(name)\n",
        "\n",
        "name.reverse()\n",
        "print(name)"
      ],
      "metadata": {
        "colab": {
          "base_uri": "https://localhost:8080/"
        },
        "id": "ij_gFY1eZI1v",
        "outputId": "a1647642-b01e-406b-cefd-3236bc7b45df"
      },
      "execution_count": 9,
      "outputs": [
        {
          "output_type": "stream",
          "name": "stdout",
          "text": [
            "['Ian', 'Vincent', 'Litong', 'Reyes']\n",
            "['Reyes', 'Litong', 'Vincent', 'Ian']\n"
          ]
        }
      ]
    }
  ]
}