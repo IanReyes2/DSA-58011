{
  "nbformat": 4,
  "nbformat_minor": 0,
  "metadata": {
    "colab": {
      "provenance": [],
      "authorship_tag": "ABX9TyM59sXDVd9bslrBoczPg9gF",
      "include_colab_link": true
    },
    "kernelspec": {
      "name": "python3",
      "display_name": "Python 3"
    },
    "language_info": {
      "name": "python"
    }
  },
  "cells": [
    {
      "cell_type": "markdown",
      "metadata": {
        "id": "view-in-github",
        "colab_type": "text"
      },
      "source": [
        "<a href=\"https://colab.research.google.com/github/IanReyes2/DSA-58011/blob/main/Long_Quiz_1.ipynb\" target=\"_parent\"><img src=\"https://colab.research.google.com/assets/colab-badge.svg\" alt=\"Open In Colab\"/></a>"
      ]
    },
    {
      "cell_type": "markdown",
      "source": [
        "Array\n"
      ],
      "metadata": {
        "id": "n0HWiVcqZGiv"
      }
    },
    {
      "cell_type": "code",
      "source": [
        "name = [\"I\",\"A\",\"N\",\"V\",\"I\",\"N\",\"C\",\"E\",\"N\",\"T\",\"R\",\"E\",\"Y\",\"E\",\"S\"]\n",
        "\n",
        "name.reverse()\n",
        "print(name)"
      ],
      "metadata": {
        "colab": {
          "base_uri": "https://localhost:8080/"
        },
        "id": "ij_gFY1eZI1v",
        "outputId": "c58e405a-64f5-4765-bc91-5d94f3cfaf19"
      },
      "execution_count": 10,
      "outputs": [
        {
          "output_type": "stream",
          "name": "stdout",
          "text": [
            "['S', 'E', 'Y', 'E', 'R', 'T', 'N', 'E', 'C', 'N', 'I', 'V', 'N', 'A', 'I']\n"
          ]
        }
      ]
    }
  ]
}