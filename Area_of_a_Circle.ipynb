{
  "nbformat": 4,
  "nbformat_minor": 0,
  "metadata": {
    "colab": {
      "name": "Area of a Circle.ipynb",
      "provenance": [],
      "collapsed_sections": [],
      "authorship_tag": "ABX9TyNcw5tAy2ToyearFuB+3jGt",
      "include_colab_link": true
    },
    "kernelspec": {
      "name": "python3",
      "display_name": "Python 3"
    },
    "language_info": {
      "name": "python"
    }
  },
  "cells": [
    {
      "cell_type": "markdown",
      "metadata": {
        "id": "view-in-github",
        "colab_type": "text"
      },
      "source": [
        "<a href=\"https://colab.research.google.com/github/IanReyes2/DSA-58011/blob/main/Area_of_a_Circle.ipynb\" target=\"_parent\"><img src=\"https://colab.research.google.com/assets/colab-badge.svg\" alt=\"Open In Colab\"/></a>"
      ]
    },
    {
      "cell_type": "code",
      "execution_count": null,
      "metadata": {
        "colab": {
          "base_uri": "https://localhost:8080/"
        },
        "id": "fLalO02vFYIq",
        "outputId": "19d26820-d638-4185-a8a4-9fb31caa6175"
      },
      "outputs": [
        {
          "output_type": "stream",
          "name": "stdout",
          "text": [
            "Enter the radius of a circle:45\n",
            "Area of a circle = 6358.50\n"
          ]
        }
      ],
      "source": [
        "PI = 3.14\n",
        "r = float(input(\"Enter the radius of a circle:\"))\n",
        "area = PI * r * r\n",
        "print(\"Area of a circle = %.2f\" %area)"
      ]
    }
  ]
}